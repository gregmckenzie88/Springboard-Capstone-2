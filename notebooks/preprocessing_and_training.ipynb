{
 "cells": [
  {
   "cell_type": "markdown",
   "id": "76ff3eed",
   "metadata": {},
   "source": [
    "# Bluebook for Bulldozers\n",
    "\n",
    "## Preprocessing and Training"
   ]
  },
  {
   "cell_type": "code",
   "execution_count": 1,
   "id": "b8467ec2",
   "metadata": {},
   "outputs": [],
   "source": [
    "import pandas as pd\n",
    "import numpy as np\n",
    "import os\n",
    "import matplotlib.pyplot as plt\n",
    "import seaborn as sns\n",
    "from sklearn.decomposition import PCA # not yet using\n",
    "from sklearn.preprocessing import scale # not yet using\n",
    "from sklearn.model_selection import train_test_split, cross_validate, GridSearchCV, learning_curve, RandomizedSearchCV\n",
    "from sklearn.metrics import mean_squared_log_error, mean_absolute_error, r2_score\n",
    "from sklearn.ensemble import RandomForestRegressor"
   ]
  },
  {
   "cell_type": "code",
   "execution_count": 2,
   "id": "ce7ecf66",
   "metadata": {},
   "outputs": [],
   "source": [
    "df = pd.read_csv(\n",
    "    '../data/processed/exploratory-data-analysis.csv',\n",
    "    low_memory=False\n",
    ")"
   ]
  },
  {
   "cell_type": "markdown",
   "id": "3cc10e39",
   "metadata": {},
   "source": [
    "### Converting strings into categories"
   ]
  },
  {
   "cell_type": "code",
   "execution_count": 3,
   "id": "87a2372e",
   "metadata": {},
   "outputs": [
    {
     "name": "stdout",
     "output_type": "stream",
     "text": [
      "<class 'pandas.core.frame.DataFrame'>\n",
      "RangeIndex: 372915 entries, 0 to 372914\n",
      "Data columns (total 57 columns):\n",
      " #   Column                    Non-Null Count   Dtype  \n",
      "---  ------                    --------------   -----  \n",
      " 0   SalesID                   372915 non-null  int64  \n",
      " 1   SalePrice                 372915 non-null  float64\n",
      " 2   MachineID                 372915 non-null  int64  \n",
      " 3   ModelID                   372915 non-null  int64  \n",
      " 4   datasource                372915 non-null  int64  \n",
      " 5   auctioneerID              355456 non-null  float64\n",
      " 6   YearMade                  372915 non-null  int64  \n",
      " 7   MachineHoursCurrentMeter  130277 non-null  float64\n",
      " 8   UsageBand                 68017 non-null   object \n",
      " 9   fiModelDesc               372915 non-null  object \n",
      " 10  fiBaseModel               372915 non-null  object \n",
      " 11  fiSecondaryDesc           250059 non-null  object \n",
      " 12  fiModelSeries             49026 non-null   object \n",
      " 13  fiModelDescriptor         70124 non-null   object \n",
      " 14  ProductSize               175399 non-null  object \n",
      " 15  fiProductClassDesc        372915 non-null  object \n",
      " 16  state                     372915 non-null  object \n",
      " 17  ProductGroup              372915 non-null  object \n",
      " 18  ProductGroupDesc          372915 non-null  object \n",
      " 19  Drive_System              99172 non-null   object \n",
      " 20  Enclosure                 372651 non-null  object \n",
      " 21  Forks                     13791 non-null   object \n",
      " 22  Pad_Type                  8470 non-null    object \n",
      " 23  Ride_Control              82796 non-null   object \n",
      " 24  Stick                     76121 non-null   object \n",
      " 25  Transmission              151522 non-null  object \n",
      " 26  Turbocharged              3867 non-null    object \n",
      " 27  Blade_Extension           536 non-null     object \n",
      " 28  Blade_Width               14803 non-null   object \n",
      " 29  Enclosure_Type            3361 non-null    object \n",
      " 30  Engine_Horsepower         23043 non-null   object \n",
      " 31  Hydraulics                295537 non-null  object \n",
      " 32  Pushblock                 5577 non-null    object \n",
      " 33  Ripper                    20070 non-null   object \n",
      " 34  Scarifier                 11525 non-null   object \n",
      " 35  Tip_Control               8592 non-null    object \n",
      " 36  Tire_Size                 45046 non-null   object \n",
      " 37  Coupler                   28095 non-null   object \n",
      " 38  Coupler_System            3054 non-null    object \n",
      " 39  Grouser_Tracks            2853 non-null    object \n",
      " 40  Hydraulics_Flow           40709 non-null   object \n",
      " 41  Track_Type                89672 non-null   object \n",
      " 42  Undercarriage_Pad_Width   18064 non-null   object \n",
      " 43  Stick_Length              19046 non-null   object \n",
      " 44  Thumb                     15674 non-null   object \n",
      " 45  Pattern_Changer           9113 non-null    object \n",
      " 46  Grouser_Type              89672 non-null   object \n",
      " 47  Backhoe_Mounting          20 non-null      object \n",
      " 48  Blade_Type                64280 non-null   object \n",
      " 49  Travel_Controls           9422 non-null    object \n",
      " 50  Differential_Type         64818 non-null   object \n",
      " 51  Steering_Controls         64782 non-null   object \n",
      " 52  saleYear                  372915 non-null  int64  \n",
      " 53  saleMonth                 372915 non-null  int64  \n",
      " 54  saleDate                  372915 non-null  int64  \n",
      " 55  saleDayOfWeek             372915 non-null  int64  \n",
      " 56  saleDayOfYear             372915 non-null  int64  \n",
      "dtypes: float64(3), int64(10), object(44)\n",
      "memory usage: 162.2+ MB\n"
     ]
    }
   ],
   "source": [
    "df.info()"
   ]
  },
  {
   "cell_type": "code",
   "execution_count": 4,
   "id": "ba7bdb5d",
   "metadata": {},
   "outputs": [],
   "source": [
    "#  find the columns that contain strings, and turn them into categories\n",
    "for label, content in df.items():\n",
    "    if pd.api.types.is_string_dtype(content):\n",
    "        df[label] = content.astype(\"category\").cat.as_ordered()"
   ]
  },
  {
   "cell_type": "code",
   "execution_count": 5,
   "id": "f5e9269e",
   "metadata": {},
   "outputs": [
    {
     "name": "stdout",
     "output_type": "stream",
     "text": [
      "<class 'pandas.core.frame.DataFrame'>\n",
      "RangeIndex: 372915 entries, 0 to 372914\n",
      "Data columns (total 57 columns):\n",
      " #   Column                    Non-Null Count   Dtype   \n",
      "---  ------                    --------------   -----   \n",
      " 0   SalesID                   372915 non-null  int64   \n",
      " 1   SalePrice                 372915 non-null  float64 \n",
      " 2   MachineID                 372915 non-null  int64   \n",
      " 3   ModelID                   372915 non-null  int64   \n",
      " 4   datasource                372915 non-null  int64   \n",
      " 5   auctioneerID              355456 non-null  float64 \n",
      " 6   YearMade                  372915 non-null  int64   \n",
      " 7   MachineHoursCurrentMeter  130277 non-null  float64 \n",
      " 8   UsageBand                 68017 non-null   category\n",
      " 9   fiModelDesc               372915 non-null  category\n",
      " 10  fiBaseModel               372915 non-null  category\n",
      " 11  fiSecondaryDesc           250059 non-null  category\n",
      " 12  fiModelSeries             49026 non-null   category\n",
      " 13  fiModelDescriptor         70124 non-null   category\n",
      " 14  ProductSize               175399 non-null  category\n",
      " 15  fiProductClassDesc        372915 non-null  category\n",
      " 16  state                     372915 non-null  category\n",
      " 17  ProductGroup              372915 non-null  category\n",
      " 18  ProductGroupDesc          372915 non-null  category\n",
      " 19  Drive_System              99172 non-null   category\n",
      " 20  Enclosure                 372651 non-null  category\n",
      " 21  Forks                     13791 non-null   category\n",
      " 22  Pad_Type                  8470 non-null    category\n",
      " 23  Ride_Control              82796 non-null   category\n",
      " 24  Stick                     76121 non-null   category\n",
      " 25  Transmission              151522 non-null  category\n",
      " 26  Turbocharged              3867 non-null    category\n",
      " 27  Blade_Extension           536 non-null     category\n",
      " 28  Blade_Width               14803 non-null   category\n",
      " 29  Enclosure_Type            3361 non-null    category\n",
      " 30  Engine_Horsepower         23043 non-null   category\n",
      " 31  Hydraulics                295537 non-null  category\n",
      " 32  Pushblock                 5577 non-null    category\n",
      " 33  Ripper                    20070 non-null   category\n",
      " 34  Scarifier                 11525 non-null   category\n",
      " 35  Tip_Control               8592 non-null    category\n",
      " 36  Tire_Size                 45046 non-null   category\n",
      " 37  Coupler                   28095 non-null   category\n",
      " 38  Coupler_System            3054 non-null    category\n",
      " 39  Grouser_Tracks            2853 non-null    category\n",
      " 40  Hydraulics_Flow           40709 non-null   category\n",
      " 41  Track_Type                89672 non-null   category\n",
      " 42  Undercarriage_Pad_Width   18064 non-null   category\n",
      " 43  Stick_Length              19046 non-null   category\n",
      " 44  Thumb                     15674 non-null   category\n",
      " 45  Pattern_Changer           9113 non-null    category\n",
      " 46  Grouser_Type              89672 non-null   category\n",
      " 47  Backhoe_Mounting          20 non-null      category\n",
      " 48  Blade_Type                64280 non-null   category\n",
      " 49  Travel_Controls           9422 non-null    category\n",
      " 50  Differential_Type         64818 non-null   category\n",
      " 51  Steering_Controls         64782 non-null   category\n",
      " 52  saleYear                  372915 non-null  int64   \n",
      " 53  saleMonth                 372915 non-null  int64   \n",
      " 54  saleDate                  372915 non-null  int64   \n",
      " 55  saleDayOfWeek             372915 non-null  int64   \n",
      " 56  saleDayOfYear             372915 non-null  int64   \n",
      "dtypes: category(44), float64(3), int64(10)\n",
      "memory usage: 54.3 MB\n"
     ]
    }
   ],
   "source": [
    "df.info()"
   ]
  },
  {
   "cell_type": "code",
   "execution_count": 6,
   "id": "4a964594",
   "metadata": {},
   "outputs": [
    {
     "data": {
      "text/plain": [
       "Index(['Alabama', 'Alaska', 'Arizona', 'Arkansas', 'California', 'Colorado',\n",
       "       'Connecticut', 'Delaware', 'Florida', 'Georgia', 'Hawaii', 'Idaho',\n",
       "       'Illinois', 'Indiana', 'Iowa', 'Kansas', 'Kentucky', 'Louisiana',\n",
       "       'Maine', 'Maryland', 'Massachusetts', 'Michigan', 'Minnesota',\n",
       "       'Mississippi', 'Missouri', 'Montana', 'Nebraska', 'Nevada',\n",
       "       'New Hampshire', 'New Jersey', 'New Mexico', 'New York',\n",
       "       'North Carolina', 'North Dakota', 'Ohio', 'Oklahoma', 'Oregon',\n",
       "       'Pennsylvania', 'Puerto Rico', 'Rhode Island', 'South Carolina',\n",
       "       'South Dakota', 'Tennessee', 'Texas', 'Unspecified', 'Utah', 'Vermont',\n",
       "       'Virginia', 'Washington', 'Washington DC', 'West Virginia', 'Wisconsin',\n",
       "       'Wyoming'],\n",
       "      dtype='object')"
      ]
     },
     "execution_count": 6,
     "metadata": {},
     "output_type": "execute_result"
    }
   ],
   "source": [
    "df.state.cat.categories"
   ]
  },
  {
   "cell_type": "markdown",
   "id": "41896964",
   "metadata": {},
   "source": [
    "Great -- now the string types have been converted into categories"
   ]
  },
  {
   "cell_type": "markdown",
   "id": "d3d5e047",
   "metadata": {},
   "source": [
    "## Filling in missing values"
   ]
  },
  {
   "cell_type": "markdown",
   "id": "2e742783",
   "metadata": {},
   "source": [
    "### Fill numeric rows with median value"
   ]
  },
  {
   "cell_type": "code",
   "execution_count": 7,
   "id": "e426b618",
   "metadata": {},
   "outputs": [
    {
     "data": {
      "text/plain": [
       "['auctioneerID', 'MachineHoursCurrentMeter']"
      ]
     },
     "execution_count": 7,
     "metadata": {},
     "output_type": "execute_result"
    }
   ],
   "source": [
    "# Check which columns have null values\n",
    "numeric_null_columns = []\n",
    "for label, content in df.items():\n",
    "    if pd.api.types.is_numeric_dtype(content):\n",
    "        if pd.isnull(content).sum():\n",
    "            numeric_null_columns.append(label)\n",
    "numeric_null_columns"
   ]
  },
  {
   "cell_type": "code",
   "execution_count": 8,
   "id": "b6007802",
   "metadata": {},
   "outputs": [
    {
     "data": {
      "text/plain": [
       "auctioneerID                 17459\n",
       "MachineHoursCurrentMeter    242638\n",
       "dtype: int64"
      ]
     },
     "execution_count": 8,
     "metadata": {},
     "output_type": "execute_result"
    }
   ],
   "source": [
    "df[numeric_null_columns].isna().sum()"
   ]
  },
  {
   "cell_type": "code",
   "execution_count": 9,
   "id": "08b34dea",
   "metadata": {},
   "outputs": [],
   "source": [
    "for column in numeric_null_columns:\n",
    "    median = df[column].median()\n",
    "    df[column].fillna(median, inplace=True)"
   ]
  },
  {
   "cell_type": "code",
   "execution_count": 10,
   "id": "efee6636",
   "metadata": {},
   "outputs": [
    {
     "data": {
      "text/plain": [
       "auctioneerID                0\n",
       "MachineHoursCurrentMeter    0\n",
       "dtype: int64"
      ]
     },
     "execution_count": 10,
     "metadata": {},
     "output_type": "execute_result"
    }
   ],
   "source": [
    "df[numeric_null_columns].isna().sum()"
   ]
  },
  {
   "cell_type": "markdown",
   "id": "7d363eb2",
   "metadata": {},
   "source": [
    "Great -- these values have been successfully imputed!"
   ]
  },
  {
   "cell_type": "markdown",
   "id": "e4e521ae",
   "metadata": {},
   "source": [
    "### Fill in categorical values"
   ]
  },
  {
   "cell_type": "code",
   "execution_count": 11,
   "id": "c6c59418",
   "metadata": {},
   "outputs": [
    {
     "name": "stdout",
     "output_type": "stream",
     "text": [
      "UsageBand\n",
      "fiModelDesc\n",
      "fiBaseModel\n",
      "fiSecondaryDesc\n",
      "fiModelSeries\n",
      "fiModelDescriptor\n",
      "ProductSize\n",
      "fiProductClassDesc\n",
      "state\n",
      "ProductGroup\n",
      "ProductGroupDesc\n",
      "Drive_System\n",
      "Enclosure\n",
      "Forks\n",
      "Pad_Type\n",
      "Ride_Control\n",
      "Stick\n",
      "Transmission\n",
      "Turbocharged\n",
      "Blade_Extension\n",
      "Blade_Width\n",
      "Enclosure_Type\n",
      "Engine_Horsepower\n",
      "Hydraulics\n",
      "Pushblock\n",
      "Ripper\n",
      "Scarifier\n",
      "Tip_Control\n",
      "Tire_Size\n",
      "Coupler\n",
      "Coupler_System\n",
      "Grouser_Tracks\n",
      "Hydraulics_Flow\n",
      "Track_Type\n",
      "Undercarriage_Pad_Width\n",
      "Stick_Length\n",
      "Thumb\n",
      "Pattern_Changer\n",
      "Grouser_Type\n",
      "Backhoe_Mounting\n",
      "Blade_Type\n",
      "Travel_Controls\n",
      "Differential_Type\n",
      "Steering_Controls\n"
     ]
    }
   ],
   "source": [
    "# check for columns that are not numeric\n",
    "for label, content in df.items():\n",
    "    if not pd.api.types.is_numeric_dtype(content):\n",
    "        print(label)"
   ]
  },
  {
   "cell_type": "code",
   "execution_count": 12,
   "id": "7aa70c20",
   "metadata": {},
   "outputs": [],
   "source": [
    "# turn categorical values into numbers, and fill in missing\n",
    "for label, content in df.items():\n",
    "    if not pd.api.types.is_numeric_dtype(content):\n",
    "        # add a binary column to indicate whether row had a missing value\n",
    "        df[label + '_is_missing'] = pd.isnull(content)\n",
    "        # turn categories into numbers, and add one becuase padans assigns NaNs a value of -1\n",
    "        df[label] = pd.Categorical(content).codes + 1"
   ]
  },
  {
   "cell_type": "code",
   "execution_count": 13,
   "id": "fe638363",
   "metadata": {},
   "outputs": [
    {
     "data": {
      "text/plain": [
       "array([3, 0, 7, ..., 0, 0, 0], dtype=int8)"
      ]
     },
     "execution_count": 13,
     "metadata": {},
     "output_type": "execute_result"
    }
   ],
   "source": [
    "pd.Categorical(df['Transmission']).codes"
   ]
  },
  {
   "cell_type": "markdown",
   "id": "ab174be7",
   "metadata": {},
   "source": [
    "Great -- these values now have codes!"
   ]
  },
  {
   "cell_type": "code",
   "execution_count": 14,
   "id": "627c6896",
   "metadata": {},
   "outputs": [
    {
     "name": "stdout",
     "output_type": "stream",
     "text": [
      "<class 'pandas.core.frame.DataFrame'>\n",
      "RangeIndex: 372915 entries, 0 to 372914\n",
      "Columns: 101 entries, SalesID to Steering_Controls_is_missing\n",
      "dtypes: bool(44), float64(3), int16(4), int64(10), int8(40)\n",
      "memory usage: 69.7 MB\n"
     ]
    }
   ],
   "source": [
    "df.info()"
   ]
  },
  {
   "cell_type": "code",
   "execution_count": 15,
   "id": "07bff115",
   "metadata": {},
   "outputs": [
    {
     "data": {
      "text/plain": [
       "Index(['SalesID', 'SalePrice', 'MachineID', 'ModelID', 'datasource',\n",
       "       'auctioneerID', 'YearMade', 'MachineHoursCurrentMeter', 'UsageBand',\n",
       "       'fiModelDesc',\n",
       "       ...\n",
       "       'Undercarriage_Pad_Width_is_missing', 'Stick_Length_is_missing',\n",
       "       'Thumb_is_missing', 'Pattern_Changer_is_missing',\n",
       "       'Grouser_Type_is_missing', 'Backhoe_Mounting_is_missing',\n",
       "       'Blade_Type_is_missing', 'Travel_Controls_is_missing',\n",
       "       'Differential_Type_is_missing', 'Steering_Controls_is_missing'],\n",
       "      dtype='object', length=101)"
      ]
     },
     "execution_count": 15,
     "metadata": {},
     "output_type": "execute_result"
    }
   ],
   "source": [
    "df.columns"
   ]
  },
  {
   "cell_type": "code",
   "execution_count": 16,
   "id": "876224b0",
   "metadata": {},
   "outputs": [
    {
     "data": {
      "text/plain": [
       "SalesID                         0\n",
       "SalePrice                       0\n",
       "MachineID                       0\n",
       "ModelID                         0\n",
       "datasource                      0\n",
       "                               ..\n",
       "Backhoe_Mounting_is_missing     0\n",
       "Blade_Type_is_missing           0\n",
       "Travel_Controls_is_missing      0\n",
       "Differential_Type_is_missing    0\n",
       "Steering_Controls_is_missing    0\n",
       "Length: 101, dtype: int64"
      ]
     },
     "execution_count": 16,
     "metadata": {},
     "output_type": "execute_result"
    }
   ],
   "source": [
    "df.isna().sum()"
   ]
  },
  {
   "cell_type": "markdown",
   "id": "61d5e662",
   "metadata": {},
   "source": [
    "Nice -- we now have zero missing values"
   ]
  },
  {
   "cell_type": "markdown",
   "id": "7947f85a",
   "metadata": {},
   "source": [
    "### Split the data to train and validation sets"
   ]
  },
  {
   "cell_type": "code",
   "execution_count": 17,
   "id": "18dba2f2",
   "metadata": {},
   "outputs": [],
   "source": [
    "X_train, X_test, y_train, y_test = train_test_split(\n",
    "    df.drop(columns='SalePrice'), \n",
    "    df.SalePrice,\n",
    "    test_size=0.3, \n",
    "    stratify=None, # we may want to stratify imbalanced labels\n",
    "    random_state=42\n",
    ")"
   ]
  },
  {
   "cell_type": "code",
   "execution_count": 18,
   "id": "f067a19b",
   "metadata": {},
   "outputs": [
    {
     "data": {
      "text/plain": [
       "((261040, 100), (261040,), (111875, 100), (111875,))"
      ]
     },
     "execution_count": 18,
     "metadata": {},
     "output_type": "execute_result"
    }
   ],
   "source": [
    "X_train.shape, y_train.shape, X_test.shape, y_test.shape"
   ]
  },
  {
   "cell_type": "markdown",
   "id": "0ea61e2c",
   "metadata": {},
   "source": [
    "### Building an evaluation function\n",
    "Since we will be testing many instances of many models, we should put together a `show_scores` function."
   ]
  },
  {
   "cell_type": "code",
   "execution_count": 19,
   "id": "0dd25460",
   "metadata": {},
   "outputs": [],
   "source": [
    "def rmsle(y_test, y_preds):\n",
    "    return np.sqrt(mean_squared_log_error(y_test, y_preds))\n",
    "\n",
    "def show_scores(model):\n",
    "    train_preds = model.predict(X_train)\n",
    "    val_preds = model.predict(X_test)\n",
    "    scores = {\n",
    "        \"Training...MAE\": mean_absolute_error(y_train, train_preds),\n",
    "        \"Test.......MAE\": mean_absolute_error(y_test, val_preds),\n",
    "        \"Training...RMLSE\": rmsle(y_train, train_preds),\n",
    "        \"Test.......RMLSE\": rmsle(y_test, val_preds),\n",
    "        \"Training...R2\": r2_score(y_train, train_preds),\n",
    "        \"Test.......R2\": r2_score(y_test, val_preds),\n",
    "    }\n",
    "    return scores"
   ]
  },
  {
   "cell_type": "markdown",
   "id": "206402cd",
   "metadata": {},
   "source": [
    "### Naive model implementation\n",
    "Let's set up a quick model, on a subset of our data, and test it against our `show_scores` function"
   ]
  },
  {
   "cell_type": "code",
   "execution_count": 20,
   "id": "e42d5b0a",
   "metadata": {},
   "outputs": [],
   "source": [
    "model = RandomForestRegressor(\n",
    "    n_jobs=-1,\n",
    "    random_state=42,\n",
    "    max_samples=10000 # for better performance, since this is a massive dataset, we can train on samples.\n",
    ")"
   ]
  },
  {
   "cell_type": "code",
   "execution_count": 21,
   "id": "91d4737a",
   "metadata": {},
   "outputs": [
    {
     "name": "stdout",
     "output_type": "stream",
     "text": [
      "CPU times: user 37.5 s, sys: 639 ms, total: 38.2 s\n",
      "Wall time: 5 s\n"
     ]
    },
    {
     "data": {
      "text/plain": [
       "RandomForestRegressor(max_samples=10000, n_jobs=-1, random_state=42)"
      ]
     },
     "execution_count": 21,
     "metadata": {},
     "output_type": "execute_result"
    }
   ],
   "source": [
    "%%time\n",
    "model.fit(X_train, y_train)"
   ]
  },
  {
   "cell_type": "code",
   "execution_count": 22,
   "id": "fe9f880e",
   "metadata": {},
   "outputs": [
    {
     "data": {
      "text/plain": [
       "{'Training...MAE': 5395.372446789763,\n",
       " 'Test.......MAE': 5579.017371477095,\n",
       " 'Training...RMLSE': 0.23642824378258032,\n",
       " 'Test.......RMLSE': 0.24545416628170555,\n",
       " 'Training...R2': 0.8753352313858191,\n",
       " 'Test.......R2': 0.865301689053226}"
      ]
     },
     "execution_count": 22,
     "metadata": {},
     "output_type": "execute_result"
    }
   ],
   "source": [
    "show_scores(model)"
   ]
  },
  {
   "cell_type": "markdown",
   "id": "71219308",
   "metadata": {},
   "source": [
    "## Hyperparameter tuning with GridSearchCV"
   ]
  },
  {
   "cell_type": "code",
   "execution_count": null,
   "id": "9908fd46",
   "metadata": {},
   "outputs": [
    {
     "name": "stdout",
     "output_type": "stream",
     "text": [
      "Fitting 5 folds for each of 2 candidates, totalling 10 fits\n"
     ]
    }
   ],
   "source": [
    "%%time\n",
    "param_grid = {\n",
    "    \"n_estimators\": np.arange(10, 100, 10),\n",
    "    \"max_depth\": [None, 3, 5, 10],\n",
    "    \"min_samples_split\": np.arange(2, 20, 2),\n",
    "    \"min_samples_leaf\": np.arange(1, 20, 2),\n",
    "    \"max_features\": [0.5, 1, 'sqrt', 'auto'],\n",
    "    \"max_samples\": [1000] # setting this for performance reasons\n",
    "}\n",
    "\n",
    "rs_model = RandomizedSearchCV(\n",
    "    RandomForestRegressor(\n",
    "        n_jobs=-1,\n",
    "        random_state=42\n",
    "        # we should consider definig a score attr?  one fitted to our desired metric?\n",
    "        # https://youtu.be/0B5eIE_1vpU?t=3662\n",
    "        # be sure to tune the greater_is_better param seen here:\n",
    "        # https://youtu.be/0B5eIE_1vpU?t=5063\n",
    "    ),\n",
    "    param_distributions=param_grid,\n",
    "    n_iter=2, # this is also set for performance reasons -- increase for greater accuracy!\n",
    "    cv=5,\n",
    "    verbose=True\n",
    ")\n",
    "\n",
    "# Fit the randomized search CV model!\n",
    "rs_model.fit(X_train, y_train)"
   ]
  },
  {
   "cell_type": "code",
   "execution_count": null,
   "id": "d124f852",
   "metadata": {},
   "outputs": [],
   "source": []
  }
 ],
 "metadata": {
  "kernelspec": {
   "display_name": "Python 3 (ipykernel)",
   "language": "python",
   "name": "python3"
  },
  "language_info": {
   "codemirror_mode": {
    "name": "ipython",
    "version": 3
   },
   "file_extension": ".py",
   "mimetype": "text/x-python",
   "name": "python",
   "nbconvert_exporter": "python",
   "pygments_lexer": "ipython3",
   "version": "3.9.13"
  }
 },
 "nbformat": 4,
 "nbformat_minor": 5
}
